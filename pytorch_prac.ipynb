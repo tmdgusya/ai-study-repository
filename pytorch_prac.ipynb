{
  "nbformat": 4,
  "nbformat_minor": 0,
  "metadata": {
    "colab": {
      "provenance": [],
      "gpuType": "T4",
      "authorship_tag": "ABX9TyO6OpNLH6ItSocvAFzMD6qr",
      "include_colab_link": true
    },
    "kernelspec": {
      "name": "python3",
      "display_name": "Python 3"
    },
    "language_info": {
      "name": "python"
    },
    "accelerator": "GPU"
  },
  "cells": [
    {
      "cell_type": "markdown",
      "metadata": {
        "id": "view-in-github",
        "colab_type": "text"
      },
      "source": [
        "<a href=\"https://colab.research.google.com/github/tmdgusya/ai-study-repository/blob/main/pytorch_prac.ipynb\" target=\"_parent\"><img src=\"https://colab.research.google.com/assets/colab-badge.svg\" alt=\"Open In Colab\"/></a>"
      ]
    },
    {
      "cell_type": "code",
      "execution_count": 2,
      "metadata": {
        "id": "Wm-2ADQmQSLH"
      },
      "outputs": [],
      "source": [
        "import torch"
      ]
    },
    {
      "cell_type": "code",
      "source": [
        "data = [\n",
        "    [1,2],\n",
        "    [3,4,]\n",
        "]\n",
        "\n",
        "x = torch.tensor(data)\n",
        "print(x.is_cuda)\n",
        "\n",
        "x = x.cuda()\n",
        "print(x.is_cuda)\n",
        "\n",
        "x = x.cpu()\n",
        "print(x.is_cuda)"
      ],
      "metadata": {
        "colab": {
          "base_uri": "https://localhost:8080/"
        },
        "id": "EsupqFtaQarB",
        "outputId": "18d598be-429c-4c6f-c2bb-327c16fb2b6b"
      },
      "execution_count": 3,
      "outputs": [
        {
          "output_type": "stream",
          "name": "stdout",
          "text": [
            "False\n",
            "True\n",
            "False\n"
          ]
        }
      ]
    },
    {
      "cell_type": "markdown",
      "source": [
        "## 텐서의 속성\n",
        "- 모양(shape)\n",
        "- 자료형(data type)\n",
        "- 저장된 장치"
      ],
      "metadata": {
        "id": "YhvJSRgBSXEt"
      }
    },
    {
      "cell_type": "code",
      "source": [
        "tensor = torch.rand(3,4)\n",
        "print(tensor.shape)\n",
        "print(tensor.dtype)\n",
        "print(tensor.device)"
      ],
      "metadata": {
        "colab": {
          "base_uri": "https://localhost:8080/"
        },
        "id": "ULhHTMM1SZ2l",
        "outputId": "a0a65532-c80e-404f-d73f-fd38ac2898c8"
      },
      "execution_count": 5,
      "outputs": [
        {
          "output_type": "stream",
          "name": "stdout",
          "text": [
            "torch.Size([3, 4])\n",
            "torch.float32\n",
            "cpu\n"
          ]
        }
      ]
    },
    {
      "cell_type": "code",
      "source": [
        "a = torch.tensor([5])\n",
        "b = torch.tensor([7])\n",
        "\n",
        "c = (a + b).numpy()\n",
        "print(c)\n",
        "print(type(c))\n",
        "\n",
        "result = 10 * c\n",
        "tensor = torch.from_numpy(result)\n",
        "print(tensor)\n",
        "print(type(tensor))"
      ],
      "metadata": {
        "colab": {
          "base_uri": "https://localhost:8080/"
        },
        "id": "WZGNr9hgSfD7",
        "outputId": "0e8e4ccc-7aa8-4b84-e463-8dd0d07b4546"
      },
      "execution_count": 6,
      "outputs": [
        {
          "output_type": "stream",
          "name": "stdout",
          "text": [
            "[12]\n",
            "<class 'numpy.ndarray'>\n",
            "tensor([120])\n",
            "<class 'torch.Tensor'>\n"
          ]
        }
      ]
    },
    {
      "cell_type": "markdown",
      "source": [
        "## 텐서 값이 모두 1이 되도록 초기화 가능( 같은 크기를 가지면서)\n"
      ],
      "metadata": {
        "id": "vRUfkwVdTR67"
      }
    },
    {
      "cell_type": "code",
      "source": [
        "x = torch.tensor([\n",
        "    [1,2],\n",
        "    [3,4],\n",
        "])\n",
        "\n",
        "x_ones = torch.ones_like(x)\n",
        "print(x_ones)\n",
        "\n",
        "# x 와 같은 크기지만 값은 float 을 채우고, 랜덤으로 채우기\n",
        "x_rand = torch.rand_like(x, dtype=torch.float)\n",
        "print(x_rand)"
      ],
      "metadata": {
        "colab": {
          "base_uri": "https://localhost:8080/"
        },
        "id": "NpoQl9A2TDjE",
        "outputId": "207ce66b-3004-4280-aa9d-1aaa340522a2"
      },
      "execution_count": 7,
      "outputs": [
        {
          "output_type": "stream",
          "name": "stdout",
          "text": [
            "tensor([[1, 1],\n",
            "        [1, 1]])\n",
            "tensor([[0.5866, 0.5652],\n",
            "        [0.6584, 0.3141]])\n"
          ]
        }
      ]
    },
    {
      "cell_type": "code",
      "source": [
        "tensor = torch.tensor([\n",
        "    [1,2,3,4],\n",
        "    [5,6,7,8],\n",
        "    [9,10,11,12],\n",
        "])\n",
        "\n",
        "print(tensor[0])\n",
        "print(tensor[:, 0]) # first column (모든 행에 대한 0열의 데이터) = 1,5,9\n",
        "print(tensor[..., -1]) # last column ('')"
      ],
      "metadata": {
        "colab": {
          "base_uri": "https://localhost:8080/"
        },
        "id": "YtcAs-zGTc6A",
        "outputId": "fda2585e-1f22-4516-ce27-082049f76d07"
      },
      "execution_count": 3,
      "outputs": [
        {
          "output_type": "stream",
          "name": "stdout",
          "text": [
            "tensor([1, 2, 3, 4])\n",
            "tensor([1, 5, 9])\n",
            "tensor([ 4,  8, 12])\n"
          ]
        }
      ]
    },
    {
      "cell_type": "markdown",
      "source": [
        "# concatenate tensor"
      ],
      "metadata": {
        "id": "NoKThdh-b0lq"
      }
    },
    {
      "cell_type": "code",
      "source": [
        "tensor = torch.tensor([\n",
        "    [1,2,3,4],\n",
        "    [5,6,7,8],\n",
        "    [9,10,11,12],\n",
        "])\n",
        "\n",
        "t1 = torch.cat([tensor, tensor, tensor], dim=1) # 열기반으로 옆으로 잇는거 즉 N*M 일때 M은 안변함\n",
        "print(t1)\n",
        "\n",
        "t2 = torch.cat([tensor, tensor, tensor], dim=0) # 행기반으로 아래로 잇는거 즉 N*M 일때 N은 안변함\n",
        "print(t2)"
      ],
      "metadata": {
        "colab": {
          "base_uri": "https://localhost:8080/"
        },
        "id": "_-KksG7abq9z",
        "outputId": "047f29eb-bb2c-46b8-9313-e307d86240c8"
      },
      "execution_count": 5,
      "outputs": [
        {
          "output_type": "stream",
          "name": "stdout",
          "text": [
            "tensor([[ 1,  2,  3,  4,  1,  2,  3,  4,  1,  2,  3,  4],\n",
            "        [ 5,  6,  7,  8,  5,  6,  7,  8,  5,  6,  7,  8],\n",
            "        [ 9, 10, 11, 12,  9, 10, 11, 12,  9, 10, 11, 12]])\n",
            "tensor([[ 1,  2,  3,  4],\n",
            "        [ 5,  6,  7,  8],\n",
            "        [ 9, 10, 11, 12],\n",
            "        [ 1,  2,  3,  4],\n",
            "        [ 5,  6,  7,  8],\n",
            "        [ 9, 10, 11, 12],\n",
            "        [ 1,  2,  3,  4],\n",
            "        [ 5,  6,  7,  8],\n",
            "        [ 9, 10, 11, 12]])\n"
          ]
        }
      ]
    },
    {
      "cell_type": "markdown",
      "source": [
        "# type casting"
      ],
      "metadata": {
        "id": "dSmyik79cOlc"
      }
    },
    {
      "cell_type": "code",
      "source": [
        "a = torch.tensor([2], dtype=torch.int32)\n",
        "print(a.dtype)\n",
        "\n",
        "b = a.to(dtype=torch.float32)\n",
        "print(b.dtype)"
      ],
      "metadata": {
        "colab": {
          "base_uri": "https://localhost:8080/"
        },
        "id": "TM-2GipicPbO",
        "outputId": "efd6ee58-ac6b-41fb-9f70-4411fe0337a5"
      },
      "execution_count": 6,
      "outputs": [
        {
          "output_type": "stream",
          "name": "stdout",
          "text": [
            "torch.int32\n",
            "torch.float32\n"
          ]
        }
      ]
    },
    {
      "cell_type": "markdown",
      "source": [
        "# change shape of tensor"
      ],
      "metadata": {
        "id": "IpR88K4gcaZ7"
      }
    },
    {
      "cell_type": "code",
      "source": [
        "a = torch.tensor([1,2,3,4,5,6,7,8])\n",
        "b= a.view(4,2)\n",
        "print(b)\n",
        "\n",
        "a[0]= 7\n",
        "print(b)\n",
        "\n",
        "b = a.clone().view(4,2)\n",
        "print(b)\n",
        "\n",
        "a[0]= 100\n",
        "print(b)"
      ],
      "metadata": {
        "colab": {
          "base_uri": "https://localhost:8080/"
        },
        "id": "RnB5T01Aca8-",
        "outputId": "1639b706-f8ef-4e11-9bd1-1b858b9b3915"
      },
      "execution_count": 11,
      "outputs": [
        {
          "output_type": "stream",
          "name": "stdout",
          "text": [
            "tensor([[1, 2],\n",
            "        [3, 4],\n",
            "        [5, 6],\n",
            "        [7, 8]])\n",
            "tensor([[7, 2],\n",
            "        [3, 4],\n",
            "        [5, 6],\n",
            "        [7, 8]])\n",
            "tensor([[7, 2],\n",
            "        [3, 4],\n",
            "        [5, 6],\n",
            "        [7, 8]])\n",
            "tensor([[7, 2],\n",
            "        [3, 4],\n",
            "        [5, 6],\n",
            "        [7, 8]])\n"
          ]
        }
      ]
    },
    {
      "cell_type": "markdown",
      "source": [
        "# get mean of tensor"
      ],
      "metadata": {
        "id": "CiJKbKEpdv0R"
      }
    },
    {
      "cell_type": "code",
      "source": [
        "a = torch.Tensor([\n",
        "    [1,2,3,4,5],\n",
        "    [6,7,8,9,10]\n",
        "])\n",
        "\n",
        "a.cuda()\n",
        "\n",
        "print(a)\n",
        "print(a.mean())\n",
        "print(a.mean(dim=0)) # mean for each column\n",
        "print(a.mean(dim=1)) # mean for each row"
      ],
      "metadata": {
        "colab": {
          "base_uri": "https://localhost:8080/"
        },
        "id": "J3b9-K0vct9w",
        "outputId": "0906a23f-5b5e-4fa2-ce32-f53e977874b0"
      },
      "execution_count": 16,
      "outputs": [
        {
          "output_type": "stream",
          "name": "stdout",
          "text": [
            "tensor([[ 1.,  2.,  3.,  4.,  5.],\n",
            "        [ 6.,  7.,  8.,  9., 10.]])\n",
            "tensor(5.5000)\n",
            "tensor([3.5000, 4.5000, 5.5000, 6.5000, 7.5000])\n",
            "tensor([3., 8.])\n"
          ]
        }
      ]
    },
    {
      "cell_type": "markdown",
      "source": [
        "# 차원 축소 / 늘리기"
      ],
      "metadata": {
        "id": "9Yv9cqz7ewfJ"
      }
    },
    {
      "cell_type": "code",
      "source": [
        "a =torch.Tensor([\n",
        "    [1,2,3,4],\n",
        "    [5,6,7,8]\n",
        "])\n",
        "\n",
        "a.cuda()\n",
        "\n",
        "_a = a.unsqueeze(0) # 2*4 행렬일때 첫번에 추가 [1,2,4]\n",
        "print(_a)\n",
        "print(_a.shape)\n",
        "print(\"==================================\")\n",
        "b = a.unsqueeze(2) # 2*4 행렬일때 3번째에 추가 [2,4,1]\n",
        "print(b)\n",
        "print(b.shape)\n",
        "print(\"==================================\")\n",
        "c = a.unsqueeze(-1) # 2*4 행렬일때 제일 마지막번째(3)에 추가 [2,4,1]\n",
        "print(c)\n",
        "print(c.shape)"
      ],
      "metadata": {
        "colab": {
          "base_uri": "https://localhost:8080/"
        },
        "id": "z2vmlcllev4e",
        "outputId": "85c9f376-b31d-42f2-99b1-cb5f4af20bea"
      },
      "execution_count": 23,
      "outputs": [
        {
          "output_type": "stream",
          "name": "stdout",
          "text": [
            "tensor([[[1., 2., 3., 4.],\n",
            "         [5., 6., 7., 8.]]])\n",
            "torch.Size([1, 2, 4])\n",
            "==================================\n",
            "tensor([[[1.],\n",
            "         [2.],\n",
            "         [3.],\n",
            "         [4.]],\n",
            "\n",
            "        [[5.],\n",
            "         [6.],\n",
            "         [7.],\n",
            "         [8.]]])\n",
            "torch.Size([2, 4, 1])\n",
            "==================================\n",
            "tensor([[[1.],\n",
            "         [2.],\n",
            "         [3.],\n",
            "         [4.]],\n",
            "\n",
            "        [[5.],\n",
            "         [6.],\n",
            "         [7.],\n",
            "         [8.]]])\n",
            "torch.Size([2, 4, 1])\n"
          ]
        }
      ]
    },
    {
      "cell_type": "code",
      "source": [
        "d = c.squeeze()\n",
        "print(d)\n",
        "print(d.shape)"
      ],
      "metadata": {
        "colab": {
          "base_uri": "https://localhost:8080/"
        },
        "id": "gxB8KpAufvN1",
        "outputId": "de647b3f-97a6-4b36-9786-5b2c11df05b7"
      },
      "execution_count": 24,
      "outputs": [
        {
          "output_type": "stream",
          "name": "stdout",
          "text": [
            "tensor([[1., 2., 3., 4.],\n",
            "        [5., 6., 7., 8.]])\n",
            "torch.Size([2, 4])\n"
          ]
        }
      ]
    }
  ]
}