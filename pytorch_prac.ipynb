{
  "nbformat": 4,
  "nbformat_minor": 0,
  "metadata": {
    "colab": {
      "provenance": [],
      "gpuType": "T4",
      "authorship_tag": "ABX9TyMvuGtyabXYq7yRv9xextlW",
      "include_colab_link": true
    },
    "kernelspec": {
      "name": "python3",
      "display_name": "Python 3"
    },
    "language_info": {
      "name": "python"
    },
    "accelerator": "GPU"
  },
  "cells": [
    {
      "cell_type": "markdown",
      "metadata": {
        "id": "view-in-github",
        "colab_type": "text"
      },
      "source": [
        "<a href=\"https://colab.research.google.com/github/tmdgusya/ai-study-repository/blob/main/pytorch_prac.ipynb\" target=\"_parent\"><img src=\"https://colab.research.google.com/assets/colab-badge.svg\" alt=\"Open In Colab\"/></a>"
      ]
    },
    {
      "cell_type": "code",
      "execution_count": 2,
      "metadata": {
        "id": "Wm-2ADQmQSLH"
      },
      "outputs": [],
      "source": [
        "import torch"
      ]
    },
    {
      "cell_type": "code",
      "source": [
        "data = [\n",
        "    [1,2],\n",
        "    [3,4,]\n",
        "]\n",
        "\n",
        "x = torch.tensor(data)\n",
        "print(x.is_cuda)\n",
        "\n",
        "x = x.cuda()\n",
        "print(x.is_cuda)\n",
        "\n",
        "x = x.cpu()\n",
        "print(x.is_cuda)"
      ],
      "metadata": {
        "colab": {
          "base_uri": "https://localhost:8080/"
        },
        "id": "EsupqFtaQarB",
        "outputId": "18d598be-429c-4c6f-c2bb-327c16fb2b6b"
      },
      "execution_count": 3,
      "outputs": [
        {
          "output_type": "stream",
          "name": "stdout",
          "text": [
            "False\n",
            "True\n",
            "False\n"
          ]
        }
      ]
    },
    {
      "cell_type": "code",
      "source": [],
      "metadata": {
        "id": "ZhdG4rWWQrdc"
      },
      "execution_count": null,
      "outputs": []
    }
  ]
}