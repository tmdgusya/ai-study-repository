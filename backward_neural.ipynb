{
 "cells": [
  {
   "cell_type": "code",
   "id": "initial_id",
   "metadata": {
    "collapsed": true,
    "ExecuteTime": {
     "end_time": "2025-01-03T15:26:16.689745Z",
     "start_time": "2025-01-03T15:26:16.687912Z"
    }
   },
   "source": [
    "class MuLayer:\n",
    "    def __init__(self):\n",
    "        self.x = None\n",
    "        self.y = None\n",
    "\n",
    "    def forward(self, x, y):\n",
    "        self.x = x\n",
    "        self.y = y\n",
    "        out = x * y\n",
    "\n",
    "        return out\n",
    "\n",
    "    def backward(self, dout):\n",
    "        dx = dout * self.y\n",
    "        dy = dout * self.x\n",
    "\n",
    "        return dx, dy"
   ],
   "outputs": [],
   "execution_count": 1
  },
  {
   "metadata": {
    "ExecuteTime": {
     "end_time": "2025-01-03T15:31:26.327883Z",
     "start_time": "2025-01-03T15:31:26.324989Z"
    }
   },
   "cell_type": "code",
   "source": [
    "apple = 100\n",
    "apple_num = 2\n",
    "tax = 1.1\n",
    "\n",
    "mul_apple_layer = MuLayer()\n",
    "mul_tax_layer = MuLayer()\n",
    "\n",
    "price = mul_tax_layer.forward(mul_apple_layer.forward(apple, apple_num), tax)\n",
    "price"
   ],
   "id": "86284bdbd5b7ce68",
   "outputs": [
    {
     "data": {
      "text/plain": [
       "220.00000000000003"
      ]
     },
     "execution_count": 11,
     "metadata": {},
     "output_type": "execute_result"
    }
   ],
   "execution_count": 11
  },
  {
   "metadata": {
    "ExecuteTime": {
     "end_time": "2025-01-03T15:31:27.547793Z",
     "start_time": "2025-01-03T15:31:27.544985Z"
    }
   },
   "cell_type": "code",
   "source": [
    "dprice = 1\n",
    "dapple_num = 2\n",
    "\n",
    "dapple_price, dtax = mul_tax_layer.backward(dprice)\n",
    "dapple, dapple_num = mul_apple_layer.backward(dapple_price)\n",
    "print(dapple, dapple_num, dtax)"
   ],
   "id": "2b852e407c3846b8",
   "outputs": [
    {
     "name": "stdout",
     "output_type": "stream",
     "text": [
      "2.2 110.00000000000001 200\n"
     ]
    }
   ],
   "execution_count": 12
  },
  {
   "metadata": {
    "ExecuteTime": {
     "end_time": "2025-01-03T15:32:43.739389Z",
     "start_time": "2025-01-03T15:32:43.736573Z"
    }
   },
   "cell_type": "code",
   "source": [
    "class AddLayer:\n",
    "    def __init__(self):\n",
    "        self.x = None\n",
    "        self.y = None\n",
    "\n",
    "    def forward(self, x, y):\n",
    "        self.x = x\n",
    "        self.y = y\n",
    "\n",
    "        out = x + y\n",
    "        return out\n",
    "\n",
    "    def backward(self, dout):\n",
    "        dx = dout * 1\n",
    "        dy = dout * 1\n",
    "        return dx, dy"
   ],
   "id": "5f1c2d4316177624",
   "outputs": [],
   "execution_count": 13
  },
  {
   "metadata": {
    "ExecuteTime": {
     "end_time": "2025-01-03T15:35:32.480783Z",
     "start_time": "2025-01-03T15:35:32.475778Z"
    }
   },
   "cell_type": "code",
   "source": [
    "apple = 100\n",
    "apple_num = 2\n",
    "\n",
    "mandarin = 150\n",
    "mandarin_num = 3\n",
    "\n",
    "tax = 1.1\n",
    "\n",
    "layer1_1 = MuLayer()\n",
    "out1_1 = layer1_1.forward(apple, apple_num)\n",
    "\n",
    "layer1_2 = MuLayer()\n",
    "out1_2 = layer1_2.forward(mandarin, mandarin_num)\n",
    "\n",
    "layer2 = AddLayer()\n",
    "out2 = layer2.forward(out1_1, out1_2)\n",
    "\n",
    "layer3 = MuLayer()\n",
    "out3 = layer3.forward(out2, tax)\n",
    "\n",
    "out3"
   ],
   "id": "460654f82a0c4060",
   "outputs": [
    {
     "data": {
      "text/plain": [
       "715.0000000000001"
      ]
     },
     "execution_count": 14,
     "metadata": {},
     "output_type": "execute_result"
    }
   ],
   "execution_count": 14
  },
  {
   "metadata": {
    "ExecuteTime": {
     "end_time": "2025-01-03T15:40:31.270930Z",
     "start_time": "2025-01-03T15:40:31.267349Z"
    }
   },
   "cell_type": "code",
   "source": [
    "dprice1 = 1\n",
    "\n",
    "dsummation, dtax = layer3.backward(dprice1)\n",
    "dapple_price, dmandarin_price = layer2.backward(dsummation)\n",
    "dapple, dapple_num = layer1_1.backward(dapple_price)\n",
    "dmandarin, dmandarin_num = layer1_2.backward(dmandarin_price)\n",
    "\n",
    "print(dapple_num, dapple, dmandarin, dmandarin_num, dtax)"
   ],
   "id": "699a7ebdbb2d3105",
   "outputs": [
    {
     "name": "stdout",
     "output_type": "stream",
     "text": [
      "110.00000000000001 2.2 3.3000000000000003 165.0 650\n"
     ]
    }
   ],
   "execution_count": 16
  },
  {
   "metadata": {
    "ExecuteTime": {
     "end_time": "2025-01-03T15:44:15.136570Z",
     "start_time": "2025-01-03T15:44:15.133720Z"
    }
   },
   "cell_type": "code",
   "source": [
    "class Relu:\n",
    "    def __init__(self):\n",
    "        self.mask = None\n",
    "\n",
    "    def forward(self, x):\n",
    "        self.mask = (x <= 0)\n",
    "        out = x.copy()\n",
    "        out[self.mask] = 0 # if self.mask is true, then fill indexes with zero\n",
    "\n",
    "        return out\n",
    "\n",
    "    def backward(self, dout):\n",
    "        dout[self.mask] = 0\n",
    "        dx = dout\n",
    "\n",
    "        return dx"
   ],
   "id": "259f6f39b968a9e",
   "outputs": [],
   "execution_count": 17
  },
  {
   "metadata": {
    "ExecuteTime": {
     "end_time": "2025-01-03T15:45:17.428807Z",
     "start_time": "2025-01-03T15:45:17.425167Z"
    }
   },
   "cell_type": "code",
   "source": [
    "import numpy as np\n",
    "\n",
    "x = np.array([[1.0, -0.5], [-2.0, 3.0]])\n",
    "print(x)\n",
    "\n",
    "mask = (x <= 0)\n",
    "print(mask)"
   ],
   "id": "fd4774260afdf96c",
   "outputs": [
    {
     "name": "stdout",
     "output_type": "stream",
     "text": [
      "[[ 1.  -0.5]\n",
      " [-2.   3. ]]\n",
      "[[False  True]\n",
      " [ True False]]\n",
      "[[100.   -0.5]\n",
      " [ -2.  100. ]]\n"
     ]
    }
   ],
   "execution_count": 20
  }
 ],
 "metadata": {
  "kernelspec": {
   "display_name": "Python 3",
   "language": "python",
   "name": "python3"
  },
  "language_info": {
   "codemirror_mode": {
    "name": "ipython",
    "version": 2
   },
   "file_extension": ".py",
   "mimetype": "text/x-python",
   "name": "python",
   "nbconvert_exporter": "python",
   "pygments_lexer": "ipython2",
   "version": "2.7.6"
  }
 },
 "nbformat": 4,
 "nbformat_minor": 5
}
