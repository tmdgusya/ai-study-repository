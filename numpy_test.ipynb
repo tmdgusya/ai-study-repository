{
 "cells": [
  {
   "cell_type": "code",
   "id": "initial_id",
   "metadata": {
    "collapsed": true,
    "ExecuteTime": {
     "end_time": "2025-01-01T13:34:30.948784Z",
     "start_time": "2025-01-01T13:34:30.915997Z"
    }
   },
   "source": "import numpy as np",
   "outputs": [],
   "execution_count": 1
  },
  {
   "metadata": {
    "ExecuteTime": {
     "end_time": "2025-01-01T13:34:47.944790Z",
     "start_time": "2025-01-01T13:34:47.939761Z"
    }
   },
   "cell_type": "code",
   "source": [
    "A = np.array([1,2,3,4])\n",
    "print(A)"
   ],
   "id": "80c0ec7c5f9598b",
   "outputs": [
    {
     "name": "stdout",
     "output_type": "stream",
     "text": [
      "[1 2 3 4]\n"
     ]
    }
   ],
   "execution_count": 2
  },
  {
   "metadata": {
    "ExecuteTime": {
     "end_time": "2025-01-01T13:35:06.545233Z",
     "start_time": "2025-01-01T13:35:06.539934Z"
    }
   },
   "cell_type": "code",
   "source": "np.ndim(A) # return the number of dimensions of array",
   "id": "db5a2a6db7b50e7e",
   "outputs": [
    {
     "data": {
      "text/plain": [
       "1"
      ]
     },
     "execution_count": 4,
     "metadata": {},
     "output_type": "execute_result"
    }
   ],
   "execution_count": 4
  },
  {
   "metadata": {
    "ExecuteTime": {
     "end_time": "2025-01-01T13:35:27.796210Z",
     "start_time": "2025-01-01T13:35:27.793674Z"
    }
   },
   "cell_type": "code",
   "source": "A.shape # A 는 1차원 배열이고 4개의 원소를 가지고 있음 (return tuple type)",
   "id": "7d70352d0dc56bb8",
   "outputs": [
    {
     "data": {
      "text/plain": [
       "(4,)"
      ]
     },
     "execution_count": 5,
     "metadata": {},
     "output_type": "execute_result"
    }
   ],
   "execution_count": 5
  },
  {
   "metadata": {
    "ExecuteTime": {
     "end_time": "2025-01-01T13:37:05.226308Z",
     "start_time": "2025-01-01T13:37:05.221896Z"
    }
   },
   "cell_type": "code",
   "source": [
    "B = np.array([[1,2], [3,4], [5,6]])\n",
    "print(B)\n",
    "print(np.ndim(B))\n",
    "B.shape"
   ],
   "id": "441e5d82070aae62",
   "outputs": [
    {
     "name": "stdout",
     "output_type": "stream",
     "text": [
      "[[1 2]\n",
      " [3 4]\n",
      " [5 6]]\n",
      "2\n"
     ]
    },
    {
     "data": {
      "text/plain": [
       "(3, 2)"
      ]
     },
     "execution_count": 7,
     "metadata": {},
     "output_type": "execute_result"
    }
   ],
   "execution_count": 7
  },
  {
   "metadata": {
    "ExecuteTime": {
     "end_time": "2025-01-01T13:38:18.807619Z",
     "start_time": "2025-01-01T13:38:18.804645Z"
    }
   },
   "cell_type": "code",
   "source": [
    "A = np.array([[1,2], [3,4]])\n",
    "B = np.array([[5,6], [7,8]])\n",
    "\n",
    "np.dot(A, B)"
   ],
   "id": "ba8cf7a5cf746cb4",
   "outputs": [
    {
     "data": {
      "text/plain": [
       "array([[19, 22],\n",
       "       [43, 50]])"
      ]
     },
     "execution_count": 8,
     "metadata": {},
     "output_type": "execute_result"
    }
   ],
   "execution_count": 8
  }
 ],
 "metadata": {
  "kernelspec": {
   "display_name": "Python 3",
   "language": "python",
   "name": "python3"
  },
  "language_info": {
   "codemirror_mode": {
    "name": "ipython",
    "version": 2
   },
   "file_extension": ".py",
   "mimetype": "text/x-python",
   "name": "python",
   "nbconvert_exporter": "python",
   "pygments_lexer": "ipython2",
   "version": "2.7.6"
  }
 },
 "nbformat": 4,
 "nbformat_minor": 5
}
