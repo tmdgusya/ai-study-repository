{
 "cells": [
  {
   "cell_type": "code",
   "id": "initial_id",
   "metadata": {
    "collapsed": true,
    "ExecuteTime": {
     "end_time": "2025-01-08T01:24:22.056580Z",
     "start_time": "2025-01-08T01:24:22.029130Z"
    }
   },
   "source": [
    "import numpy as np\n",
    "\n",
    "lst = [[1, 2, 3],\n",
    "       [4, 5, 6]]\n",
    "ary2d = np.array(lst)\n",
    "\n",
    "int32_arr = ary2d.astype(np.int32)\n",
    "int32_arr"
   ],
   "outputs": [
    {
     "data": {
      "text/plain": [
       "array([[1, 2, 3],\n",
       "       [4, 5, 6]], dtype=int32)"
      ]
     },
     "execution_count": 25,
     "metadata": {},
     "output_type": "execute_result"
    }
   ],
   "execution_count": 25
  },
  {
   "metadata": {
    "ExecuteTime": {
     "end_time": "2025-01-08T01:24:22.078079Z",
     "start_time": "2025-01-08T01:24:22.065306Z"
    }
   },
   "cell_type": "code",
   "source": "np.ones((3, 4), dtype=np.int32)",
   "id": "bb3eb4742e3efb96",
   "outputs": [
    {
     "data": {
      "text/plain": [
       "array([[1, 1, 1, 1],\n",
       "       [1, 1, 1, 1],\n",
       "       [1, 1, 1, 1]], dtype=int32)"
      ]
     },
     "execution_count": 26,
     "metadata": {},
     "output_type": "execute_result"
    }
   ],
   "execution_count": 26
  },
  {
   "metadata": {
    "ExecuteTime": {
     "end_time": "2025-01-08T01:24:22.149409Z",
     "start_time": "2025-01-08T01:24:22.146748Z"
    }
   },
   "cell_type": "code",
   "source": "np.eye(4, dtype=np.int32) # identity matrix",
   "id": "18391c7b2bf9a13d",
   "outputs": [
    {
     "data": {
      "text/plain": [
       "array([[1, 0, 0, 0],\n",
       "       [0, 1, 0, 0],\n",
       "       [0, 0, 1, 0],\n",
       "       [0, 0, 0, 1]], dtype=int32)"
      ]
     },
     "execution_count": 27,
     "metadata": {},
     "output_type": "execute_result"
    }
   ],
   "execution_count": 27
  },
  {
   "metadata": {
    "ExecuteTime": {
     "end_time": "2025-01-08T01:24:22.305859Z",
     "start_time": "2025-01-08T01:24:22.302931Z"
    }
   },
   "cell_type": "code",
   "source": [
    "a = np.arange(4, 10)\n",
    "b = np.eye(4, dtype=np.int32)\n",
    "b"
   ],
   "id": "74a5cf639954eb7a",
   "outputs": [
    {
     "data": {
      "text/plain": [
       "array([[1, 0, 0, 0],\n",
       "       [0, 1, 0, 0],\n",
       "       [0, 0, 1, 0],\n",
       "       [0, 0, 0, 1]], dtype=int32)"
      ]
     },
     "execution_count": 28,
     "metadata": {},
     "output_type": "execute_result"
    }
   ],
   "execution_count": 28
  },
  {
   "metadata": {
    "ExecuteTime": {
     "end_time": "2025-01-08T01:24:22.362751Z",
     "start_time": "2025-01-08T01:24:22.359203Z"
    }
   },
   "cell_type": "code",
   "source": "np.arange(1., 11., 0.1)",
   "id": "bff69abce3cca376",
   "outputs": [
    {
     "data": {
      "text/plain": [
       "array([ 1. ,  1.1,  1.2,  1.3,  1.4,  1.5,  1.6,  1.7,  1.8,  1.9,  2. ,\n",
       "        2.1,  2.2,  2.3,  2.4,  2.5,  2.6,  2.7,  2.8,  2.9,  3. ,  3.1,\n",
       "        3.2,  3.3,  3.4,  3.5,  3.6,  3.7,  3.8,  3.9,  4. ,  4.1,  4.2,\n",
       "        4.3,  4.4,  4.5,  4.6,  4.7,  4.8,  4.9,  5. ,  5.1,  5.2,  5.3,\n",
       "        5.4,  5.5,  5.6,  5.7,  5.8,  5.9,  6. ,  6.1,  6.2,  6.3,  6.4,\n",
       "        6.5,  6.6,  6.7,  6.8,  6.9,  7. ,  7.1,  7.2,  7.3,  7.4,  7.5,\n",
       "        7.6,  7.7,  7.8,  7.9,  8. ,  8.1,  8.2,  8.3,  8.4,  8.5,  8.6,\n",
       "        8.7,  8.8,  8.9,  9. ,  9.1,  9.2,  9.3,  9.4,  9.5,  9.6,  9.7,\n",
       "        9.8,  9.9, 10. , 10.1, 10.2, 10.3, 10.4, 10.5, 10.6, 10.7, 10.8,\n",
       "       10.9])"
      ]
     },
     "execution_count": 29,
     "metadata": {},
     "output_type": "execute_result"
    }
   ],
   "execution_count": 29
  },
  {
   "metadata": {
    "ExecuteTime": {
     "end_time": "2025-01-08T01:24:22.399585Z",
     "start_time": "2025-01-08T01:24:22.397262Z"
    }
   },
   "cell_type": "code",
   "source": "b[:, 0]",
   "id": "ef9c416c520f1150",
   "outputs": [
    {
     "data": {
      "text/plain": [
       "array([1, 0, 0, 0], dtype=int32)"
      ]
     },
     "execution_count": 30,
     "metadata": {},
     "output_type": "execute_result"
    }
   ],
   "execution_count": 30
  },
  {
   "metadata": {
    "ExecuteTime": {
     "end_time": "2025-01-08T01:24:22.419336Z",
     "start_time": "2025-01-08T01:24:22.416682Z"
    }
   },
   "cell_type": "code",
   "source": "b[:, :2]",
   "id": "2ba4ac9dbb014364",
   "outputs": [
    {
     "data": {
      "text/plain": [
       "array([[1, 0],\n",
       "       [0, 1],\n",
       "       [0, 0],\n",
       "       [0, 0]], dtype=int32)"
      ]
     },
     "execution_count": 31,
     "metadata": {},
     "output_type": "execute_result"
    }
   ],
   "execution_count": 31
  },
  {
   "metadata": {
    "ExecuteTime": {
     "end_time": "2025-01-08T01:24:22.447194Z",
     "start_time": "2025-01-08T01:24:22.444571Z"
    }
   },
   "cell_type": "code",
   "source": [
    "arr_1d = np.array([1, 2, 3, 4, 5, 6])\n",
    "arr_2d = arr_1d.reshape((2,3))\n",
    "arr_2d"
   ],
   "id": "25deb761a864b393",
   "outputs": [
    {
     "data": {
      "text/plain": [
       "array([[1, 2, 3],\n",
       "       [4, 5, 6]])"
      ]
     },
     "execution_count": 32,
     "metadata": {},
     "output_type": "execute_result"
    }
   ],
   "execution_count": 32
  },
  {
   "metadata": {
    "ExecuteTime": {
     "end_time": "2025-01-08T01:24:22.496461Z",
     "start_time": "2025-01-08T01:24:22.494168Z"
    }
   },
   "cell_type": "code",
   "source": [
    "arr_2d.reshape(-1)\n",
    "arr_2d.flatten() # to flatten an array without copy\n",
    "arr_2d.ravel() # to flatten an array with copy"
   ],
   "id": "26ee0c4b23898323",
   "outputs": [
    {
     "data": {
      "text/plain": [
       "array([1, 2, 3, 4, 5, 6])"
      ]
     },
     "execution_count": 33,
     "metadata": {},
     "output_type": "execute_result"
    }
   ],
   "execution_count": 33
  },
  {
   "metadata": {
    "ExecuteTime": {
     "end_time": "2025-01-08T01:24:22.546434Z",
     "start_time": "2025-01-08T01:24:22.544262Z"
    }
   },
   "cell_type": "code",
   "source": [
    "arr = np.array([1, 2, 3, 4, 5, 6])\n",
    "np.concatenate([arr, arr])"
   ],
   "id": "fa3d9afaa560cfe",
   "outputs": [
    {
     "data": {
      "text/plain": [
       "array([1, 2, 3, 4, 5, 6, 1, 2, 3, 4, 5, 6])"
      ]
     },
     "execution_count": 34,
     "metadata": {},
     "output_type": "execute_result"
    }
   ],
   "execution_count": 34
  },
  {
   "metadata": {
    "ExecuteTime": {
     "end_time": "2025-01-08T01:24:22.555922Z",
     "start_time": "2025-01-08T01:24:22.553192Z"
    }
   },
   "cell_type": "code",
   "source": [
    "arr1 = np.array([1, 2, 3, 4, 5, 6])\n",
    "mask = arr > 3\n",
    "mask"
   ],
   "id": "bffb696d215a9f07",
   "outputs": [
    {
     "data": {
      "text/plain": [
       "array([False, False, False,  True,  True,  True])"
      ]
     },
     "execution_count": 35,
     "metadata": {},
     "output_type": "execute_result"
    }
   ],
   "execution_count": 35
  },
  {
   "metadata": {
    "ExecuteTime": {
     "end_time": "2025-01-08T01:24:22.571698Z",
     "start_time": "2025-01-08T01:24:22.569405Z"
    }
   },
   "cell_type": "code",
   "source": "arr1[mask] # 4, 5, 6",
   "id": "d53803275e982573",
   "outputs": [
    {
     "data": {
      "text/plain": [
       "array([4, 5, 6])"
      ]
     },
     "execution_count": 36,
     "metadata": {},
     "output_type": "execute_result"
    }
   ],
   "execution_count": 36
  },
  {
   "metadata": {
    "ExecuteTime": {
     "end_time": "2025-01-08T01:24:22.584293Z",
     "start_time": "2025-01-08T01:24:22.581821Z"
    }
   },
   "cell_type": "code",
   "source": [
    "arr2 = np.array([1, 2, 3, 4, 5, 6])\n",
    "np.where(arr2 > 3, 1, 0)"
   ],
   "id": "41e72fe3d272c1f8",
   "outputs": [
    {
     "data": {
      "text/plain": [
       "array([0, 0, 0, 1, 1, 1])"
      ]
     },
     "execution_count": 37,
     "metadata": {},
     "output_type": "execute_result"
    }
   ],
   "execution_count": 37
  },
  {
   "metadata": {
    "ExecuteTime": {
     "end_time": "2025-01-08T01:24:22.597604Z",
     "start_time": "2025-01-08T01:24:22.594856Z"
    }
   },
   "cell_type": "code",
   "source": [
    "np_column = np.array([1, 2, 3]).reshape((-1,1))\n",
    "np_column"
   ],
   "id": "f08146f8aedf8400",
   "outputs": [
    {
     "data": {
      "text/plain": [
       "array([[1],\n",
       "       [2],\n",
       "       [3]])"
      ]
     },
     "execution_count": 38,
     "metadata": {},
     "output_type": "execute_result"
    }
   ],
   "execution_count": 38
  },
  {
   "metadata": {
    "ExecuteTime": {
     "end_time": "2025-01-08T01:24:22.626335Z",
     "start_time": "2025-01-08T01:24:22.623906Z"
    }
   },
   "cell_type": "code",
   "source": [
    "matrix = np.array([\n",
    "    [1, 2, 3],\n",
    "    [4, 5, 6]\n",
    "])\n",
    "\n",
    "np.matmul(matrix, np_column)"
   ],
   "id": "ca161c922c78b61d",
   "outputs": [
    {
     "data": {
      "text/plain": [
       "array([[14],\n",
       "       [32]])"
      ]
     },
     "execution_count": 39,
     "metadata": {},
     "output_type": "execute_result"
    }
   ],
   "execution_count": 39
  },
  {
   "metadata": {
    "ExecuteTime": {
     "end_time": "2025-01-08T01:38:42.738094Z",
     "start_time": "2025-01-08T01:38:42.733213Z"
    }
   },
   "cell_type": "code",
   "source": [
    "x = np.random.rand(10, 1, 28, 28)\n",
    "x.shape"
   ],
   "id": "d0908edb441b67ef",
   "outputs": [
    {
     "data": {
      "text/plain": [
       "(10, 1, 28, 28)"
      ]
     },
     "execution_count": 41,
     "metadata": {},
     "output_type": "execute_result"
    }
   ],
   "execution_count": 41
  }
 ],
 "metadata": {
  "kernelspec": {
   "display_name": "Python 3",
   "language": "python",
   "name": "python3"
  },
  "language_info": {
   "codemirror_mode": {
    "name": "ipython",
    "version": 2
   },
   "file_extension": ".py",
   "mimetype": "text/x-python",
   "name": "python",
   "nbconvert_exporter": "python",
   "pygments_lexer": "ipython2",
   "version": "2.7.6"
  }
 },
 "nbformat": 4,
 "nbformat_minor": 5
}
