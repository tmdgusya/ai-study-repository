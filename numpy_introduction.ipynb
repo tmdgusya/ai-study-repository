{
 "cells": [
  {
   "cell_type": "code",
   "id": "initial_id",
   "metadata": {
    "collapsed": true,
    "ExecuteTime": {
     "end_time": "2025-01-05T13:23:11.210237Z",
     "start_time": "2025-01-05T13:23:11.170349Z"
    }
   },
   "source": [
    "import numpy as np\n",
    "\n",
    "lst = [[1, 2, 3],\n",
    "       [4, 5, 6]]\n",
    "ary2d = np.array(lst)\n",
    "\n",
    "int32_arr = ary2d.astype(np.int32)\n",
    "int32_arr"
   ],
   "outputs": [
    {
     "data": {
      "text/plain": [
       "array([[1, 2, 3],\n",
       "       [4, 5, 6]], dtype=int32)"
      ]
     },
     "execution_count": 1,
     "metadata": {},
     "output_type": "execute_result"
    }
   ],
   "execution_count": 1
  },
  {
   "metadata": {
    "ExecuteTime": {
     "end_time": "2025-01-05T13:54:30.785177Z",
     "start_time": "2025-01-05T13:54:30.781240Z"
    }
   },
   "cell_type": "code",
   "source": "np.ones((3, 4), dtype=np.int32)",
   "id": "bb3eb4742e3efb96",
   "outputs": [
    {
     "data": {
      "text/plain": [
       "array([[1, 1, 1, 1],\n",
       "       [1, 1, 1, 1],\n",
       "       [1, 1, 1, 1]], dtype=int32)"
      ]
     },
     "execution_count": 2,
     "metadata": {},
     "output_type": "execute_result"
    }
   ],
   "execution_count": 2
  },
  {
   "metadata": {
    "ExecuteTime": {
     "end_time": "2025-01-05T13:57:31.717144Z",
     "start_time": "2025-01-05T13:57:31.713815Z"
    }
   },
   "cell_type": "code",
   "source": "np.eye(4, dtype=np.int32) # identity matrix",
   "id": "18391c7b2bf9a13d",
   "outputs": [
    {
     "data": {
      "text/plain": [
       "array([[1, 0, 0, 0],\n",
       "       [0, 1, 0, 0],\n",
       "       [0, 0, 1, 0],\n",
       "       [0, 0, 0, 1]], dtype=int32)"
      ]
     },
     "execution_count": 3,
     "metadata": {},
     "output_type": "execute_result"
    }
   ],
   "execution_count": 3
  },
  {
   "metadata": {
    "ExecuteTime": {
     "end_time": "2025-01-05T14:01:16.458597Z",
     "start_time": "2025-01-05T14:01:16.455004Z"
    }
   },
   "cell_type": "code",
   "source": [
    "a = np.arange(4, 10)\n",
    "b = np.eye(4, dtype=np.int32)\n",
    "b"
   ],
   "id": "74a5cf639954eb7a",
   "outputs": [
    {
     "data": {
      "text/plain": [
       "array([[1, 0, 0, 0],\n",
       "       [0, 1, 0, 0],\n",
       "       [0, 0, 1, 0],\n",
       "       [0, 0, 0, 1]], dtype=int32)"
      ]
     },
     "execution_count": 9,
     "metadata": {},
     "output_type": "execute_result"
    }
   ],
   "execution_count": 9
  },
  {
   "metadata": {
    "ExecuteTime": {
     "end_time": "2025-01-05T13:58:12.689723Z",
     "start_time": "2025-01-05T13:58:12.685330Z"
    }
   },
   "cell_type": "code",
   "source": "np.arange(1., 11., 0.1)",
   "id": "bff69abce3cca376",
   "outputs": [
    {
     "data": {
      "text/plain": [
       "array([ 1. ,  1.1,  1.2,  1.3,  1.4,  1.5,  1.6,  1.7,  1.8,  1.9,  2. ,\n",
       "        2.1,  2.2,  2.3,  2.4,  2.5,  2.6,  2.7,  2.8,  2.9,  3. ,  3.1,\n",
       "        3.2,  3.3,  3.4,  3.5,  3.6,  3.7,  3.8,  3.9,  4. ,  4.1,  4.2,\n",
       "        4.3,  4.4,  4.5,  4.6,  4.7,  4.8,  4.9,  5. ,  5.1,  5.2,  5.3,\n",
       "        5.4,  5.5,  5.6,  5.7,  5.8,  5.9,  6. ,  6.1,  6.2,  6.3,  6.4,\n",
       "        6.5,  6.6,  6.7,  6.8,  6.9,  7. ,  7.1,  7.2,  7.3,  7.4,  7.5,\n",
       "        7.6,  7.7,  7.8,  7.9,  8. ,  8.1,  8.2,  8.3,  8.4,  8.5,  8.6,\n",
       "        8.7,  8.8,  8.9,  9. ,  9.1,  9.2,  9.3,  9.4,  9.5,  9.6,  9.7,\n",
       "        9.8,  9.9, 10. , 10.1, 10.2, 10.3, 10.4, 10.5, 10.6, 10.7, 10.8,\n",
       "       10.9])"
      ]
     },
     "execution_count": 5,
     "metadata": {},
     "output_type": "execute_result"
    }
   ],
   "execution_count": 5
  },
  {
   "metadata": {
    "ExecuteTime": {
     "end_time": "2025-01-05T14:01:38.395171Z",
     "start_time": "2025-01-05T14:01:38.391654Z"
    }
   },
   "cell_type": "code",
   "source": "b[:, 0]",
   "id": "ef9c416c520f1150",
   "outputs": [
    {
     "data": {
      "text/plain": [
       "array([[1, 0],\n",
       "       [0, 1],\n",
       "       [0, 0],\n",
       "       [0, 0]], dtype=int32)"
      ]
     },
     "execution_count": 12,
     "metadata": {},
     "output_type": "execute_result"
    }
   ],
   "execution_count": 12
  },
  {
   "metadata": {
    "ExecuteTime": {
     "end_time": "2025-01-05T14:01:51.021313Z",
     "start_time": "2025-01-05T14:01:51.017573Z"
    }
   },
   "cell_type": "code",
   "source": "b[:, :2]",
   "id": "2ba4ac9dbb014364",
   "outputs": [
    {
     "data": {
      "text/plain": [
       "array([[1, 0],\n",
       "       [0, 1],\n",
       "       [0, 0],\n",
       "       [0, 0]], dtype=int32)"
      ]
     },
     "execution_count": 13,
     "metadata": {},
     "output_type": "execute_result"
    }
   ],
   "execution_count": 13
  },
  {
   "metadata": {
    "ExecuteTime": {
     "end_time": "2025-01-06T13:42:00.830214Z",
     "start_time": "2025-01-06T13:42:00.822876Z"
    }
   },
   "cell_type": "code",
   "source": [
    "arr_1d = np.array([1, 2, 3, 4, 5, 6])\n",
    "arr_2d = arr_1d.reshape((2,3))\n",
    "arr_2d"
   ],
   "id": "25deb761a864b393",
   "outputs": [
    {
     "data": {
      "text/plain": [
       "array([[1, 2, 3],\n",
       "       [4, 5, 6]])"
      ]
     },
     "execution_count": 14,
     "metadata": {},
     "output_type": "execute_result"
    }
   ],
   "execution_count": 14
  },
  {
   "metadata": {
    "ExecuteTime": {
     "end_time": "2025-01-06T13:44:25.597115Z",
     "start_time": "2025-01-06T13:44:25.594198Z"
    }
   },
   "cell_type": "code",
   "source": [
    "arr_2d.reshape(-1)\n",
    "arr_2d.flatten() # to flatten an array without copy\n",
    "arr_2d.ravel() # to flatten an array with copy"
   ],
   "id": "26ee0c4b23898323",
   "outputs": [
    {
     "data": {
      "text/plain": [
       "array([1, 2, 3, 4, 5, 6])"
      ]
     },
     "execution_count": 16,
     "metadata": {},
     "output_type": "execute_result"
    }
   ],
   "execution_count": 16
  }
 ],
 "metadata": {
  "kernelspec": {
   "display_name": "Python 3",
   "language": "python",
   "name": "python3"
  },
  "language_info": {
   "codemirror_mode": {
    "name": "ipython",
    "version": 2
   },
   "file_extension": ".py",
   "mimetype": "text/x-python",
   "name": "python",
   "nbconvert_exporter": "python",
   "pygments_lexer": "ipython2",
   "version": "2.7.6"
  }
 },
 "nbformat": 4,
 "nbformat_minor": 5
}
