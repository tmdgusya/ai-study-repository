{
 "cells": [
  {
   "cell_type": "code",
   "execution_count": 1,
   "id": "b5461d0d",
   "metadata": {},
   "outputs": [],
   "source": [
    "import numpy as np\n",
    "import pandas as pd\n",
    "import matplotlib.pyplot as plt\n",
    "import sklearn\n",
    "import tensorflow as tf"
   ]
  },
  {
   "cell_type": "code",
   "execution_count": 4,
   "id": "aedec091",
   "metadata": {},
   "outputs": [],
   "source": [
    "data_url = \"http://lib.stat.cmu.edu/datasets/boston\"\n",
    "raw_df = pd.read_csv(data_url, sep=\"\\s+\", skiprows=22, header=None)\n",
    "data = np.hstack([raw_df.values[::2, :], raw_df.values[1::2, :2]])\n",
    "target = raw_df.values[1::2, 2]\n",
    "\n",
    "X = pd.DataFrame(data, columns=[\n",
    "    \"CRIM\", \"ZN\", \"INDUS\", \"CHAS\", \"NOX\", \"RM\", \"AGE\", \"DIS\", \"RAD\", \"TAX\", \n",
    "    \"PTRATIO\", \"B\", \"LSTAT\"\n",
    "])\n",
    "Y = pd.Series(target, name=\"MEDV\")"
   ]
  },
  {
   "cell_type": "code",
   "execution_count": 5,
   "id": "96634d52",
   "metadata": {},
   "outputs": [],
   "source": [
    "from sklearn import datasets"
   ]
  },
  {
   "cell_type": "code",
   "execution_count": 7,
   "id": "8754eca6",
   "metadata": {},
   "outputs": [],
   "source": [
    "from sklearn.pipeline import Pipeline\n",
    "from sklearn.preprocessing import StandardScaler\n",
    "from sklearn.linear_model import LinearRegression\n",
    "from sklearn.model_selection import train_test_split\n",
    "from sklearn.metrics import mean_squared_error"
   ]
  },
  {
   "cell_type": "code",
   "execution_count": 9,
   "id": "6c1ce1e3",
   "metadata": {},
   "outputs": [
    {
     "name": "stdout",
     "output_type": "stream",
     "text": [
      "        CRIM    ZN  INDUS  CHAS    NOX     RM   AGE     DIS  RAD    TAX  \\\n",
      "41   0.12744   0.0   6.91   0.0  0.448  6.770   2.9  5.7209  3.0  233.0   \n",
      "264  0.55007  20.0   3.97   0.0  0.647  7.206  91.6  1.9301  5.0  264.0   \n",
      "193  0.02187  60.0   2.93   0.0  0.401  6.800   9.9  6.2196  1.0  265.0   \n",
      "205  0.13642   0.0  10.59   0.0  0.489  5.891  22.3  3.9454  4.0  277.0   \n",
      "79   0.08387   0.0  12.83   0.0  0.437  5.874  36.6  4.5026  5.0  398.0   \n",
      "..       ...   ...    ...   ...    ...    ...   ...     ...  ...    ...   \n",
      "67   0.05789  12.5   6.07   0.0  0.409  5.878  21.4  6.4980  4.0  345.0   \n",
      "502  0.04527   0.0  11.93   0.0  0.573  6.120  76.7  2.2875  1.0  273.0   \n",
      "25   0.84054   0.0   8.14   0.0  0.538  5.599  85.7  4.4546  4.0  307.0   \n",
      "196  0.04011  80.0   1.52   0.0  0.404  7.287  34.1  7.3090  2.0  329.0   \n",
      "175  0.06664   0.0   4.05   0.0  0.510  6.546  33.1  3.1323  5.0  296.0   \n",
      "\n",
      "     PTRATIO       B  LSTAT  \n",
      "41      17.9  385.41   4.84  \n",
      "264     13.0  387.89   8.10  \n",
      "193     15.6  393.37   5.03  \n",
      "205     18.6  396.90  10.87  \n",
      "79      18.7  396.06   9.10  \n",
      "..       ...     ...    ...  \n",
      "67      18.9  396.21   8.10  \n",
      "502     21.0  396.90   9.08  \n",
      "25      21.0  303.42  16.51  \n",
      "196     12.6  396.90   4.08  \n",
      "175     16.6  390.96   5.33  \n",
      "\n",
      "[379 rows x 13 columns]          CRIM    ZN  INDUS  CHAS    NOX     RM    AGE     DIS   RAD    TAX  \\\n",
      "357   3.84970   0.0  18.10   1.0  0.770  6.395   91.0  2.5052  24.0  666.0   \n",
      "337   0.03041   0.0   5.19   0.0  0.515  5.895   59.6  5.6150   5.0  224.0   \n",
      "327   0.24103   0.0   7.38   0.0  0.493  6.083   43.7  5.4159   5.0  287.0   \n",
      "13    0.62976   0.0   8.14   0.0  0.538  5.949   61.8  4.7075   4.0  307.0   \n",
      "418  73.53410   0.0  18.10   0.0  0.679  5.957  100.0  1.8026  24.0  666.0   \n",
      "..        ...   ...    ...   ...    ...    ...    ...     ...   ...    ...   \n",
      "221   0.40771   0.0   6.20   1.0  0.507  6.164   91.3  3.0480   8.0  307.0   \n",
      "98    0.08187   0.0   2.89   0.0  0.445  7.820   36.9  3.4952   2.0  276.0   \n",
      "435  11.16040   0.0  18.10   0.0  0.740  6.629   94.6  2.1247  24.0  666.0   \n",
      "40    0.03359  75.0   2.95   0.0  0.428  7.024   15.8  5.4011   3.0  252.0   \n",
      "248   0.16439  22.0   5.86   0.0  0.431  6.433   49.1  7.8265   7.0  330.0   \n",
      "\n",
      "     PTRATIO       B  LSTAT  \n",
      "357     20.2  391.34  13.27  \n",
      "337     20.2  394.81  10.56  \n",
      "327     19.6  396.90  12.79  \n",
      "13      21.0  396.90   8.26  \n",
      "418     20.2   16.45  20.62  \n",
      "..       ...     ...    ...  \n",
      "221     17.4  395.24  21.46  \n",
      "98      18.0  393.53   3.57  \n",
      "435     20.2  109.85  23.27  \n",
      "40      18.3  395.62   1.98  \n",
      "248     19.1  374.71   9.52  \n",
      "\n",
      "[127 rows x 13 columns] 41     26.6\n",
      "264    36.5\n",
      "193    31.1\n",
      "205    22.6\n",
      "79     20.3\n",
      "       ... \n",
      "67     22.0\n",
      "502    20.6\n",
      "25     13.9\n",
      "196    33.3\n",
      "175    29.4\n",
      "Name: MEDV, Length: 379, dtype: float64 357    21.7\n",
      "337    18.5\n",
      "327    22.2\n",
      "13     20.4\n",
      "418     8.8\n",
      "       ... \n",
      "221    21.7\n",
      "98     43.8\n",
      "435    13.4\n",
      "40     34.9\n",
      "248    24.5\n",
      "Name: MEDV, Length: 127, dtype: float64\n"
     ]
    }
   ],
   "source": [
    "X_tn, X_te, Y_tn, Y_te = train_test_split(X, Y, random_state=7) # split data for training data and data for learning\n",
    "print(X_tn, X_te, Y_tn, Y_te)"
   ]
  },
  {
   "cell_type": "code",
   "execution_count": 10,
   "id": "6d002a31",
   "metadata": {},
   "outputs": [],
   "source": [
    "std_scale = StandardScaler()\n",
    "X_tn_std = std_scale.fit_transform(X_tn)\n",
    "X_te_std = std_scale.transform(X_te)"
   ]
  },
  {
   "cell_type": "code",
   "execution_count": 11,
   "id": "de256ce9",
   "metadata": {},
   "outputs": [
    {
     "data": {
      "text/plain": [
       "LinearRegression()"
      ]
     },
     "execution_count": 11,
     "metadata": {},
     "output_type": "execute_result"
    }
   ],
   "source": [
    "clf_linear = LinearRegression()\n",
    "clf_linear.fit(X_tn_std, Y_tn)"
   ]
  },
  {
   "cell_type": "code",
   "execution_count": 14,
   "id": "9c56ebac",
   "metadata": {},
   "outputs": [
    {
     "name": "stdout",
     "output_type": "stream",
     "text": [
      "[23.1903541  18.97985889 19.82548836 19.00126197  4.39524325 11.90230303\n",
      " 21.24870187 28.64449553 29.03550064 13.90644782  6.41422339 32.65356658\n",
      " 18.99884691 20.01569489 37.15275422 22.80485488 29.04529555 33.04200949\n",
      " 10.48602033 24.45472284 21.33069324 27.60222354 37.52118276 13.6113556\n",
      "  9.56442243 15.03368415 35.5975585  26.01017573 25.52430154 27.06321433\n",
      " 19.07680237 30.54746571 31.27561168 16.40132981 39.76707419 20.27263903\n",
      " 18.94934061 17.12210014 21.6262832  28.15101424 26.95292863 19.14352801\n",
      " 14.50664721 25.78075705 18.50460146 13.93439214 24.96593139 19.12431756\n",
      " 20.6780475   6.23807397 27.71460362 26.74617711 11.83361779 40.10855118\n",
      " 14.66523328 22.12023896 20.34305401 20.3786179  23.56685605 21.91582872\n",
      " 20.79748126 35.43123681 17.32592458 20.92077502 24.1674162  43.38199388\n",
      " 19.59747681 20.11624895 22.35462757 28.12506906 25.53832602 12.88949504\n",
      " 13.1552648  33.3092473  26.12666965 22.54135443 12.14404271 16.61972119\n",
      " 28.52703363 17.81932988 24.42637646 27.69824683 23.05296655 24.4402857\n",
      " 27.23233855 30.4210596  24.04718434 19.88744242 31.13160771 21.41108091\n",
      " 19.88680529 36.86501486 37.91625512 24.00513438 25.64874538 12.43967316\n",
      " 28.95074601  9.82709099 13.94593323 28.30721693 20.43657045 15.31547598\n",
      " 15.47748826 19.9406056  21.70074992 15.33999115 12.4014992  25.67993384\n",
      " 24.75824916 21.43766149 16.75630786 26.01764392 18.91613898 21.260363\n",
      "  8.95751196 24.86285128 14.20211854 28.98987716 18.37995946 20.40169618\n",
      " 17.11225855 24.55966354 24.81152897 36.53760221 14.72009878 33.43276192\n",
      " 21.59847763]\n"
     ]
    }
   ],
   "source": [
    "pred_linear = clf_linear.predict(X_te_std)\n",
    "print(pred_linear)"
   ]
  },
  {
   "cell_type": "code",
   "execution_count": 15,
   "id": "5b94d1e4",
   "metadata": {},
   "outputs": [
    {
     "data": {
      "text/plain": [
       "29.515137790197574"
      ]
     },
     "execution_count": 15,
     "metadata": {},
     "output_type": "execute_result"
    }
   ],
   "source": [
    "mean_squared_error(Y_te, pred_linear)"
   ]
  },
  {
   "cell_type": "code",
   "execution_count": 16,
   "id": "8d0e1248",
   "metadata": {},
   "outputs": [
    {
     "data": {
      "text/plain": [
       "29.515137790197574"
      ]
     },
     "execution_count": 16,
     "metadata": {},
     "output_type": "execute_result"
    }
   ],
   "source": [
    "# using sklearn pipeline\n",
    "X_tn, X_te, Y_tn, Y_te = train_test_split(X, Y, random_state=7)\n",
    "\n",
    "# pipeline\n",
    "linear_pipeline = Pipeline([\n",
    "    ('scaler', StandardScaler()),\n",
    "    ('linear_regression', LinearRegression())\n",
    "])\n",
    "\n",
    "# learning\n",
    "linear_pipeline.fit(X_tn, Y_tn)\n",
    "\n",
    "# predict\n",
    "pred_linear = linear_pipeline.predict(X_te)\n",
    "\n",
    "# evaluate\n",
    "mean_squared_error(Y_te, pred_linear)"
   ]
  },
  {
   "cell_type": "code",
   "execution_count": null,
   "id": "81ad83b3",
   "metadata": {},
   "outputs": [],
   "source": []
  },
  {
   "cell_type": "code",
   "execution_count": null,
   "id": "98a6bbb1",
   "metadata": {},
   "outputs": [],
   "source": []
  },
  {
   "cell_type": "code",
   "execution_count": null,
   "id": "73744cc0",
   "metadata": {},
   "outputs": [],
   "source": []
  },
  {
   "cell_type": "code",
   "execution_count": null,
   "id": "6a1e3645",
   "metadata": {},
   "outputs": [],
   "source": []
  },
  {
   "cell_type": "code",
   "execution_count": null,
   "id": "8e3a22b4",
   "metadata": {},
   "outputs": [],
   "source": []
  }
 ],
 "metadata": {
  "kernelspec": {
   "display_name": "Python 3 (ipykernel)",
   "language": "python",
   "name": "python3"
  },
  "language_info": {
   "codemirror_mode": {
    "name": "ipython",
    "version": 3
   },
   "file_extension": ".py",
   "mimetype": "text/x-python",
   "name": "python",
   "nbconvert_exporter": "python",
   "pygments_lexer": "ipython3",
   "version": "3.7.6"
  }
 },
 "nbformat": 4,
 "nbformat_minor": 5
}
